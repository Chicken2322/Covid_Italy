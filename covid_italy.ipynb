{
  "nbformat": 4,
  "nbformat_minor": 0,
  "metadata": {
    "colab": {
      "name": "covid_italy",
      "provenance": [],
      "mount_file_id": "1qCCoiMGsXYMAsRlNsgiajDulAToa11QF",
      "authorship_tag": "ABX9TyOk9z+L92kM3wJv7ltPE04C",
      "include_colab_link": true
    },
    "kernelspec": {
      "name": "python3",
      "display_name": "Python 3"
    }
  },
  "cells": [
    {
      "cell_type": "markdown",
      "metadata": {
        "id": "view-in-github",
        "colab_type": "text"
      },
      "source": [
        "<a href=\"https://colab.research.google.com/github/Chicken2322/Covid_Italy/blob/master/covid_italy.ipynb\" target=\"_parent\"><img src=\"https://colab.research.google.com/assets/colab-badge.svg\" alt=\"Open In Colab\"/></a>"
      ]
    },
    {
      "cell_type": "code",
      "metadata": {
        "id": "OeKbeShpQGz3"
      },
      "source": [
        "import matplotlib.pyplot as plt\n",
        "from tensorflow.keras.applications import  VGG16\n",
        "from tensorflow.keras.preprocessing.image import ImageDataGenerator\n",
        "from tensorflow.keras.layers import AveragePooling2D\n",
        "from tensorflow.keras.layers import Dropout\n",
        "from tensorflow.keras.layers import Flatten\n",
        "from tensorflow.keras.layers import Input\n",
        "from tensorflow.keras.layers import Dense\n",
        "from tensorflow.keras.models import Model\n",
        "from tensorflow.keras.optimizers import Adam\n",
        "from tensorflow.keras.utils import to_categorical\n",
        "from sklearn.model_selection import train_test_split\n",
        "from sklearn.preprocessing import label_binarize\n"
      ],
      "execution_count": null,
      "outputs": []
    },
    {
      "cell_type": "code",
      "metadata": {
        "id": "BHfmBwQw9Kil",
        "outputId": "a8ed9f1e-a6e8-4f2c-841a-a7fada94e38c",
        "colab": {
          "base_uri": "https://localhost:8080/",
          "height": 1000
        }
      },
      "source": [
        "!unzip '/content/drive/My Drive/Assignment/Data.zip' -d '/content/drive/My Drive/Colab Notebooks'"
      ],
      "execution_count": null,
      "outputs": [
        {
          "output_type": "stream",
          "text": [
            "Archive:  /content/drive/My Drive/Assignment/Data.zip\n",
            "   creating: /content/drive/My Drive/Colab Notebooks/Data/\n",
            "   creating: /content/drive/My Drive/Colab Notebooks/Data/Covid/\n",
            "  inflating: /content/drive/My Drive/Colab Notebooks/Data/Covid/01E392EE-69F9-4E33-BFCE-E5C968654078.jpeg  \n",
            "  inflating: /content/drive/My Drive/Colab Notebooks/Data/Covid/03BF7561-A9BA-4C3C-B8A0-D3E585F73F3C.jpeg  \n",
            "  inflating: /content/drive/My Drive/Colab Notebooks/Data/Covid/1-s2.0-S0140673620303706-fx1_lrg.jpg  \n",
            "  inflating: /content/drive/My Drive/Colab Notebooks/Data/Covid/1-s2.0-S0929664620300449-gr2_lrg-a.jpg  \n",
            "  inflating: /content/drive/My Drive/Colab Notebooks/Data/Covid/1-s2.0-S0929664620300449-gr2_lrg-b.jpg  \n",
            "  inflating: /content/drive/My Drive/Colab Notebooks/Data/Covid/1-s2.0-S0929664620300449-gr2_lrg-c.jpg  \n",
            "  inflating: /content/drive/My Drive/Colab Notebooks/Data/Covid/1-s2.0-S0929664620300449-gr2_lrg-d.jpg  \n",
            "  inflating: /content/drive/My Drive/Colab Notebooks/Data/Covid/1-s2.0-S1684118220300608-main.pdf-001.jpg  \n",
            "  inflating: /content/drive/My Drive/Colab Notebooks/Data/Covid/1-s2.0-S1684118220300608-main.pdf-002.jpg  \n",
            "  inflating: /content/drive/My Drive/Colab Notebooks/Data/Covid/1-s2.0-S1684118220300682-main.pdf-002-a1.png  \n",
            "  inflating: /content/drive/My Drive/Colab Notebooks/Data/Covid/1-s2.0-S1684118220300682-main.pdf-002-a2.png  \n",
            "  inflating: /content/drive/My Drive/Colab Notebooks/Data/Covid/1-s2.0-S1684118220300682-main.pdf-003-b1.png  \n",
            "  inflating: /content/drive/My Drive/Colab Notebooks/Data/Covid/1-s2.0-S1684118220300682-main.pdf-003-b2.png  \n",
            "  inflating: /content/drive/My Drive/Colab Notebooks/Data/Covid/1.CXRCTThoraximagesofCOVID-19fromSingapore.pdf-000-fig1a.png  \n",
            "  inflating: /content/drive/My Drive/Colab Notebooks/Data/Covid/1.CXRCTThoraximagesofCOVID-19fromSingapore.pdf-000-fig1b.png  \n",
            "  inflating: /content/drive/My Drive/Colab Notebooks/Data/Covid/1.CXRCTThoraximagesofCOVID-19fromSingapore.pdf-001-fig2a.png  \n",
            "  inflating: /content/drive/My Drive/Colab Notebooks/Data/Covid/1.CXRCTThoraximagesofCOVID-19fromSingapore.pdf-001-fig2b.png  \n",
            "  inflating: /content/drive/My Drive/Colab Notebooks/Data/Covid/1.CXRCTThoraximagesofCOVID-19fromSingapore.pdf-002-fig3a.png  \n",
            "  inflating: /content/drive/My Drive/Colab Notebooks/Data/Covid/1.CXRCTThoraximagesofCOVID-19fromSingapore.pdf-002-fig3b.png  \n",
            "  inflating: /content/drive/My Drive/Colab Notebooks/Data/Covid/1.CXRCTThoraximagesofCOVID-19fromSingapore.pdf-003-fig4a.png  \n",
            "  inflating: /content/drive/My Drive/Colab Notebooks/Data/Covid/1.CXRCTThoraximagesofCOVID-19fromSingapore.pdf-003-fig4b.png  \n",
            "  inflating: /content/drive/My Drive/Colab Notebooks/Data/Covid/1312A392-67A3-4EBF-9319-810CF6DA5EF6.jpeg  \n",
            "  inflating: /content/drive/My Drive/Colab Notebooks/Data/Covid/16654_1_1.png  \n",
            "  inflating: /content/drive/My Drive/Colab Notebooks/Data/Covid/16654_2_1.jpg  \n",
            "  inflating: /content/drive/My Drive/Colab Notebooks/Data/Covid/16654_4_1.jpg  \n",
            "  inflating: /content/drive/My Drive/Colab Notebooks/Data/Covid/16660_1_1.jpg  \n",
            "  inflating: /content/drive/My Drive/Colab Notebooks/Data/Covid/16660_2_1.jpg  \n",
            "  inflating: /content/drive/My Drive/Colab Notebooks/Data/Covid/16660_3_1.jpg  \n",
            "  inflating: /content/drive/My Drive/Colab Notebooks/Data/Covid/16660_4_1.jpg  \n",
            "  inflating: /content/drive/My Drive/Colab Notebooks/Data/Covid/16663_1_1.jpg  \n",
            "  inflating: /content/drive/My Drive/Colab Notebooks/Data/Covid/16664_1_1.jpg  \n",
            "  inflating: /content/drive/My Drive/Colab Notebooks/Data/Covid/16669_1_1.jpeg  \n",
            "  inflating: /content/drive/My Drive/Colab Notebooks/Data/Covid/16669_3_1.jpeg  \n",
            "  inflating: /content/drive/My Drive/Colab Notebooks/Data/Covid/16672_1_1.jpg  \n",
            "  inflating: /content/drive/My Drive/Colab Notebooks/Data/Covid/1B734A89-A1BF-49A8-A1D3-66FAFA4FAC5D.jpeg  \n",
            "  inflating: /content/drive/My Drive/Colab Notebooks/Data/Covid/23E99E2E-447C-46E5-8EB2-D35D12473C39.png  \n",
            "  inflating: /content/drive/My Drive/Colab Notebooks/Data/Covid/2966893D-5DDF-4B68-9E2B-4979D5956C8E.jpeg  \n",
            "  inflating: /content/drive/My Drive/Colab Notebooks/Data/Covid/2C26F453-AF3B-4517-BB9E-802CF2179543.jpeg  \n",
            "  inflating: /content/drive/My Drive/Colab Notebooks/Data/Covid/31BA3780-2323-493F-8AED-62081B9C383B.jpeg  \n",
            "  inflating: /content/drive/My Drive/Colab Notebooks/Data/Covid/353889E0-A1E8-4F9E-A0B8-F24F36BCFBFB.jpeg  \n",
            "  inflating: /content/drive/My Drive/Colab Notebooks/Data/Covid/41591_2020_819_Fig1_HTML.webp-day10.png  \n",
            "  inflating: /content/drive/My Drive/Colab Notebooks/Data/Covid/41591_2020_819_Fig1_HTML.webp-day5.png  \n",
            "  inflating: /content/drive/My Drive/Colab Notebooks/Data/Covid/446B2CB6-B572-40AB-B01F-1910CA07086A.jpeg  \n",
            "  inflating: /content/drive/My Drive/Colab Notebooks/Data/Covid/4e43e48d52c9e2d4c6c1fb9bc1544f_jumbo.jpeg  \n",
            "  inflating: /content/drive/My Drive/Colab Notebooks/Data/Covid/53EC07C9-5CC6-4BE4-9B6F-D7B0D72AAA7E.jpeg  \n",
            "  inflating: /content/drive/My Drive/Colab Notebooks/Data/Covid/58cb9263f16e94305c730685358e4e_jumbo.jpeg  \n",
            "  inflating: /content/drive/My Drive/Colab Notebooks/Data/Covid/6b44464d-73a7-4cf3-bbb6-ffe7168300e3.annot.original.jpeg  \n",
            "  inflating: /content/drive/My Drive/Colab Notebooks/Data/Covid/6C94A287-C059-46A0-8600-AFB95F4727B7.jpeg  \n",
            "  inflating: /content/drive/My Drive/Colab Notebooks/Data/Covid/6CB4EFC6-68FA-4CD5-940C-BEFA8DAFE9A7.jpeg  \n",
            "  inflating: /content/drive/My Drive/Colab Notebooks/Data/Covid/7AF6C1AF-D249-4BD2-8C26-449304105D03.jpeg  \n",
            "  inflating: /content/drive/My Drive/Colab Notebooks/Data/Covid/7C69C012-7479-493F-8722-ABC29C60A2DD.jpeg  \n",
            "  inflating: /content/drive/My Drive/Colab Notebooks/Data/Covid/80446565-E090-4187-A031-9D3CEAA586C8.jpeg  \n",
            "  inflating: /content/drive/My Drive/Colab Notebooks/Data/Covid/85E52EB3-56E9-4D67-82DA-DEA247C82886.jpeg  \n",
            "  inflating: /content/drive/My Drive/Colab Notebooks/Data/Covid/8FDE8DBA-CFBD-4B4C-B1A4-6F36A93B7E87.jpeg  \n",
            "  inflating: /content/drive/My Drive/Colab Notebooks/Data/Covid/93FE0BB1-022D-4F24-9727-987A07975FFB.jpeg  \n",
            "  inflating: /content/drive/My Drive/Colab Notebooks/Data/Covid/9C34AF49-E589-44D5-92D3-168B3B04E4A6.jpeg  \n",
            "  inflating: /content/drive/My Drive/Colab Notebooks/Data/Covid/9fdd3c3032296fd04d2cad5d9070d4_jumbo.jpeg  \n",
            "  inflating: /content/drive/My Drive/Colab Notebooks/Data/Covid/all14238-fig-0001-m-b.jpg  \n",
            "  inflating: /content/drive/My Drive/Colab Notebooks/Data/Covid/all14238-fig-0001-m-c.jpg  \n",
            "  inflating: /content/drive/My Drive/Colab Notebooks/Data/Covid/auntminnie-a-2020_01_28_23_51_6665_2020_01_28_Vietnam_coronavirus.jpeg  \n",
            "  inflating: /content/drive/My Drive/Colab Notebooks/Data/Covid/auntminnie-b-2020_01_28_23_51_6665_2020_01_28_Vietnam_coronavirus.jpeg  \n",
            "  inflating: /content/drive/My Drive/Colab Notebooks/Data/Covid/auntminnie-c-2020_01_28_23_51_6665_2020_01_28_Vietnam_coronavirus.jpeg  \n",
            "  inflating: /content/drive/My Drive/Colab Notebooks/Data/Covid/auntminnie-d-2020_01_28_23_51_6665_2020_01_28_Vietnam_coronavirus.jpeg  \n",
            "  inflating: /content/drive/My Drive/Colab Notebooks/Data/Covid/B2D20576-00B7-4519-A415-72DE29C90C34.jpeg  \n",
            "  inflating: /content/drive/My Drive/Colab Notebooks/Data/Covid/CD50BA96-6982-4C80-AE7B-5F67ACDBFA56.jpeg  \n",
            "  inflating: /content/drive/My Drive/Colab Notebooks/Data/Covid/ciaa199.pdf-001-a.png  \n",
            "  inflating: /content/drive/My Drive/Colab Notebooks/Data/Covid/ciaa199.pdf-001-b.png  \n",
            "  inflating: /content/drive/My Drive/Colab Notebooks/Data/Covid/ciaa199.pdf-001-c.png  \n",
            "  inflating: /content/drive/My Drive/Colab Notebooks/Data/Covid/covid-19-caso-70-1-PA.jpg  \n",
            "  inflating: /content/drive/My Drive/Colab Notebooks/Data/Covid/covid-19-infection-exclusive-gastrointestinal-symptoms-l.png  \n",
            "  inflating: /content/drive/My Drive/Colab Notebooks/Data/Covid/covid-19-infection-exclusive-gastrointestinal-symptoms-pa.png  \n",
            "  inflating: /content/drive/My Drive/Colab Notebooks/Data/Covid/covid-19-pneumonia-12.jpg  \n",
            "  inflating: /content/drive/My Drive/Colab Notebooks/Data/Covid/covid-19-pneumonia-14-PA.png  \n",
            "  inflating: /content/drive/My Drive/Colab Notebooks/Data/Covid/covid-19-pneumonia-15-PA.jpg  \n",
            "  inflating: /content/drive/My Drive/Colab Notebooks/Data/Covid/covid-19-pneumonia-19.jpg  \n",
            "  inflating: /content/drive/My Drive/Colab Notebooks/Data/Covid/covid-19-pneumonia-2.jpg  \n",
            "  inflating: /content/drive/My Drive/Colab Notebooks/Data/Covid/covid-19-pneumonia-20-pa-on-admission.jpg  \n",
            "  inflating: /content/drive/My Drive/Colab Notebooks/Data/Covid/covid-19-pneumonia-20.jpg  \n",
            "  inflating: /content/drive/My Drive/Colab Notebooks/Data/Covid/covid-19-pneumonia-22-day1-pa.png  \n",
            "  inflating: /content/drive/My Drive/Colab Notebooks/Data/Covid/covid-19-pneumonia-22-day2-pa.png  \n",
            "  inflating: /content/drive/My Drive/Colab Notebooks/Data/Covid/covid-19-pneumonia-28.png  \n",
            "  inflating: /content/drive/My Drive/Colab Notebooks/Data/Covid/covid-19-pneumonia-30-PA.jpg  \n",
            "  inflating: /content/drive/My Drive/Colab Notebooks/Data/Covid/covid-19-pneumonia-34.png  \n",
            "  inflating: /content/drive/My Drive/Colab Notebooks/Data/Covid/covid-19-pneumonia-35-1.jpg  \n",
            "  inflating: /content/drive/My Drive/Colab Notebooks/Data/Covid/covid-19-pneumonia-35-2.jpg  \n",
            "  inflating: /content/drive/My Drive/Colab Notebooks/Data/Covid/covid-19-pneumonia-38-pa.jpg  \n",
            "  inflating: /content/drive/My Drive/Colab Notebooks/Data/Covid/covid-19-pneumonia-44-day-0.jpeg  \n",
            "  inflating: /content/drive/My Drive/Colab Notebooks/Data/Covid/covid-19-pneumonia-53.jpg  \n",
            "  inflating: /content/drive/My Drive/Colab Notebooks/Data/Covid/covid-19-pneumonia-58-day-10.jpg  \n",
            "  inflating: /content/drive/My Drive/Colab Notebooks/Data/Covid/covid-19-pneumonia-58-day-3.jpg  \n",
            "  inflating: /content/drive/My Drive/Colab Notebooks/Data/Covid/covid-19-pneumonia-58-day-7.jpg  \n",
            "  inflating: /content/drive/My Drive/Colab Notebooks/Data/Covid/covid-19-pneumonia-58-day-9.jpg  \n",
            "  inflating: /content/drive/My Drive/Colab Notebooks/Data/Covid/covid-19-pneumonia-67.jpeg  \n",
            "  inflating: /content/drive/My Drive/Colab Notebooks/Data/Covid/covid-19-pneumonia-7-PA.jpg  \n",
            "  inflating: /content/drive/My Drive/Colab Notebooks/Data/Covid/covid-19-pneumonia-8.jpg  \n",
            "  inflating: /content/drive/My Drive/Colab Notebooks/Data/Covid/covid-19-pneumonia-bilateral.jpg  \n",
            "  inflating: /content/drive/My Drive/Colab Notebooks/Data/Covid/covid-19-pneumonia-evolution-over-a-week-1-day0-PA.jpg  \n",
            "  inflating: /content/drive/My Drive/Colab Notebooks/Data/Covid/covid-19-pneumonia-mild.JPG  \n",
            "  inflating: /content/drive/My Drive/Colab Notebooks/Data/Covid/F2DE909F-E19C-4900-92F5-8F435B031AC6.jpeg  \n",
            "  inflating: /content/drive/My Drive/Colab Notebooks/Data/Covid/F63AB6CE-1968-4154-A70F-913AF154F53D.jpeg  \n",
            "   creating: /content/drive/My Drive/Colab Notebooks/Data/Normal/\n",
            "  inflating: /content/drive/My Drive/Colab Notebooks/Data/Normal/IM-0135-0001.jpeg  \n",
            "  inflating: /content/drive/My Drive/Colab Notebooks/Data/Normal/IM-0137-0001.jpeg  \n",
            "  inflating: /content/drive/My Drive/Colab Notebooks/Data/Normal/IM-0158-0001.jpeg  \n",
            "  inflating: /content/drive/My Drive/Colab Notebooks/Data/Normal/IM-0160-0001.jpeg  \n",
            "  inflating: /content/drive/My Drive/Colab Notebooks/Data/Normal/IM-0162-0001.jpeg  \n",
            "  inflating: /content/drive/My Drive/Colab Notebooks/Data/Normal/IM-0164-0001.jpeg  \n",
            "  inflating: /content/drive/My Drive/Colab Notebooks/Data/Normal/IM-0166-0001.jpeg  \n",
            "  inflating: /content/drive/My Drive/Colab Notebooks/Data/Normal/IM-0168-0001.jpeg  \n",
            "  inflating: /content/drive/My Drive/Colab Notebooks/Data/Normal/IM-0170-0001.jpeg  \n",
            "  inflating: /content/drive/My Drive/Colab Notebooks/Data/Normal/IM-0172-0001.jpeg  \n",
            "  inflating: /content/drive/My Drive/Colab Notebooks/Data/Normal/IM-0176-0001.jpeg  \n",
            "  inflating: /content/drive/My Drive/Colab Notebooks/Data/Normal/IM-0177-0001.jpeg  \n",
            "  inflating: /content/drive/My Drive/Colab Notebooks/Data/Normal/IM-0178-0001.jpeg  \n",
            "  inflating: /content/drive/My Drive/Colab Notebooks/Data/Normal/IM-0180-0001.jpeg  \n",
            "  inflating: /content/drive/My Drive/Colab Notebooks/Data/Normal/IM-0182-0001.jpeg  \n",
            "  inflating: /content/drive/My Drive/Colab Notebooks/Data/Normal/IM-0183-0001.jpeg  \n",
            "  inflating: /content/drive/My Drive/Colab Notebooks/Data/Normal/IM-0185-0001.jpeg  \n",
            "  inflating: /content/drive/My Drive/Colab Notebooks/Data/Normal/IM-0187-0001.jpeg  \n",
            "  inflating: /content/drive/My Drive/Colab Notebooks/Data/Normal/IM-0189-0001.jpeg  \n",
            "  inflating: /content/drive/My Drive/Colab Notebooks/Data/Normal/IM-0191-0001.jpeg  \n",
            "  inflating: /content/drive/My Drive/Colab Notebooks/Data/Normal/IM-0193-0001.jpeg  \n",
            "  inflating: /content/drive/My Drive/Colab Notebooks/Data/Normal/IM-0195-0001.jpeg  \n",
            "  inflating: /content/drive/My Drive/Colab Notebooks/Data/Normal/IM-0199-0001.jpeg  \n",
            "  inflating: /content/drive/My Drive/Colab Notebooks/Data/Normal/IM-0201-0001.jpeg  \n",
            "  inflating: /content/drive/My Drive/Colab Notebooks/Data/Normal/IM-0203-0001.jpeg  \n",
            "  inflating: /content/drive/My Drive/Colab Notebooks/Data/Normal/IM-0205-0001.jpeg  \n",
            "  inflating: /content/drive/My Drive/Colab Notebooks/Data/Normal/IM-0206-0001.jpeg  \n",
            "  inflating: /content/drive/My Drive/Colab Notebooks/Data/Normal/IM-0207-0001.jpeg  \n",
            "  inflating: /content/drive/My Drive/Colab Notebooks/Data/Normal/IM-0209-0001.jpeg  \n",
            "  inflating: /content/drive/My Drive/Colab Notebooks/Data/Normal/IM-0210-0001.jpeg  \n",
            "  inflating: /content/drive/My Drive/Colab Notebooks/Data/Normal/IM-0211-0001.jpeg  \n",
            "  inflating: /content/drive/My Drive/Colab Notebooks/Data/Normal/IM-0213-0001.jpeg  \n",
            "  inflating: /content/drive/My Drive/Colab Notebooks/Data/Normal/IM-0214-0001.jpeg  \n",
            "  inflating: /content/drive/My Drive/Colab Notebooks/Data/Normal/IM-0215-0001.jpeg  \n",
            "  inflating: /content/drive/My Drive/Colab Notebooks/Data/Normal/IM-0216-0001.jpeg  \n",
            "  inflating: /content/drive/My Drive/Colab Notebooks/Data/Normal/IM-0217-0001.jpeg  \n",
            "  inflating: /content/drive/My Drive/Colab Notebooks/Data/Normal/IM-0218-0001.jpeg  \n",
            "  inflating: /content/drive/My Drive/Colab Notebooks/Data/Normal/IM-0219-0001.jpeg  \n",
            "  inflating: /content/drive/My Drive/Colab Notebooks/Data/Normal/IM-0220-0001.jpeg  \n",
            "  inflating: /content/drive/My Drive/Colab Notebooks/Data/Normal/IM-0221-0001.jpeg  \n",
            "  inflating: /content/drive/My Drive/Colab Notebooks/Data/Normal/IM-0222-0001.jpeg  \n",
            "  inflating: /content/drive/My Drive/Colab Notebooks/Data/Normal/IM-0223-0001.jpeg  \n",
            "  inflating: /content/drive/My Drive/Colab Notebooks/Data/Normal/IM-0224-0001.jpeg  \n",
            "  inflating: /content/drive/My Drive/Colab Notebooks/Data/Normal/IM-0225-0001.jpeg  \n",
            "  inflating: /content/drive/My Drive/Colab Notebooks/Data/Normal/IM-0226-0001.jpeg  \n",
            "  inflating: /content/drive/My Drive/Colab Notebooks/Data/Normal/IM-0227-0001.jpeg  \n",
            "  inflating: /content/drive/My Drive/Colab Notebooks/Data/Normal/IM-0228-0001.jpeg  \n",
            "  inflating: /content/drive/My Drive/Colab Notebooks/Data/Normal/IM-0229-0001.jpeg  \n",
            "  inflating: /content/drive/My Drive/Colab Notebooks/Data/Normal/IM-0230-0001.jpeg  \n",
            "  inflating: /content/drive/My Drive/Colab Notebooks/Data/Normal/IM-0231-0001.jpeg  \n",
            "  inflating: /content/drive/My Drive/Colab Notebooks/Data/Normal/IM-0234-0001.jpeg  \n",
            "  inflating: /content/drive/My Drive/Colab Notebooks/Data/Normal/IM-0235-0001.jpeg  \n",
            "  inflating: /content/drive/My Drive/Colab Notebooks/Data/Normal/IM-0236-0001.jpeg  \n",
            "  inflating: /content/drive/My Drive/Colab Notebooks/Data/Normal/IM-0237-0001.jpeg  \n",
            "  inflating: /content/drive/My Drive/Colab Notebooks/Data/Normal/IM-0238-0001.jpeg  \n",
            "  inflating: /content/drive/My Drive/Colab Notebooks/Data/Normal/IM-0239-0001.jpeg  \n",
            "  inflating: /content/drive/My Drive/Colab Notebooks/Data/Normal/IM-0240-0001.jpeg  \n",
            "  inflating: /content/drive/My Drive/Colab Notebooks/Data/Normal/IM-0241-0001.jpeg  \n",
            "  inflating: /content/drive/My Drive/Colab Notebooks/Data/Normal/IM-0242-0001.jpeg  \n",
            "  inflating: /content/drive/My Drive/Colab Notebooks/Data/Normal/IM-0243-0001.jpeg  \n",
            "  inflating: /content/drive/My Drive/Colab Notebooks/Data/Normal/IM-0244-0001.jpeg  \n",
            "  inflating: /content/drive/My Drive/Colab Notebooks/Data/Normal/IM-0245-0001.jpeg  \n",
            "  inflating: /content/drive/My Drive/Colab Notebooks/Data/Normal/IM-0248-0001.jpeg  \n",
            "  inflating: /content/drive/My Drive/Colab Notebooks/Data/Normal/IM-0249-0001.jpeg  \n",
            "  inflating: /content/drive/My Drive/Colab Notebooks/Data/Normal/IM-0250-0001.jpeg  \n",
            "  inflating: /content/drive/My Drive/Colab Notebooks/Data/Normal/IM-0251-0001.jpeg  \n",
            "  inflating: /content/drive/My Drive/Colab Notebooks/Data/Normal/IM-0253-0001.jpeg  \n",
            "  inflating: /content/drive/My Drive/Colab Notebooks/Data/Normal/IM-0255-0001.jpeg  \n",
            "  inflating: /content/drive/My Drive/Colab Notebooks/Data/Normal/IM-0256-0001.jpeg  \n",
            "  inflating: /content/drive/My Drive/Colab Notebooks/Data/Normal/IM-0257-0001.jpeg  \n",
            "  inflating: /content/drive/My Drive/Colab Notebooks/Data/Normal/IM-0261-0001.jpeg  \n",
            "  inflating: /content/drive/My Drive/Colab Notebooks/Data/Normal/IM-0262-0001.jpeg  \n",
            "  inflating: /content/drive/My Drive/Colab Notebooks/Data/Normal/IM-0264-0001.jpeg  \n",
            "  inflating: /content/drive/My Drive/Colab Notebooks/Data/Normal/IM-0265-0001.jpeg  \n",
            "  inflating: /content/drive/My Drive/Colab Notebooks/Data/Normal/IM-0266-0001.jpeg  \n",
            "  inflating: /content/drive/My Drive/Colab Notebooks/Data/Normal/IM-0268-0001.jpeg  \n",
            "  inflating: /content/drive/My Drive/Colab Notebooks/Data/Normal/IM-0269-0001.jpeg  \n",
            "  inflating: /content/drive/My Drive/Colab Notebooks/Data/Normal/IM-0270-0001.jpeg  \n",
            "  inflating: /content/drive/My Drive/Colab Notebooks/Data/Normal/IM-0272-0001.jpeg  \n",
            "  inflating: /content/drive/My Drive/Colab Notebooks/Data/Normal/IM-0273-0001.jpeg  \n",
            "  inflating: /content/drive/My Drive/Colab Notebooks/Data/Normal/IM-0274-0001.jpeg  \n",
            "  inflating: /content/drive/My Drive/Colab Notebooks/Data/Normal/IM-0275-0001.jpeg  \n",
            "  inflating: /content/drive/My Drive/Colab Notebooks/Data/Normal/IM-0276-0001.jpeg  \n",
            "  inflating: /content/drive/My Drive/Colab Notebooks/Data/Normal/IM-0277-0001.jpeg  \n",
            "  inflating: /content/drive/My Drive/Colab Notebooks/Data/Normal/IM-0278-0001.jpeg  \n",
            "  inflating: /content/drive/My Drive/Colab Notebooks/Data/Normal/IM-0279-0001.jpeg  \n",
            "  inflating: /content/drive/My Drive/Colab Notebooks/Data/Normal/IM-0280-0001.jpeg  \n",
            "  inflating: /content/drive/My Drive/Colab Notebooks/Data/Normal/IM-0282-0001.jpeg  \n",
            "  inflating: /content/drive/My Drive/Colab Notebooks/Data/Normal/IM-0283-0001.jpeg  \n",
            "  inflating: /content/drive/My Drive/Colab Notebooks/Data/Normal/IM-0285-0001.jpeg  \n",
            "  inflating: /content/drive/My Drive/Colab Notebooks/Data/Normal/IM-0286-0001.jpeg  \n",
            "  inflating: /content/drive/My Drive/Colab Notebooks/Data/Normal/IM-0288-0001.jpeg  \n",
            "  inflating: /content/drive/My Drive/Colab Notebooks/Data/Normal/IM-0289-0001.jpeg  \n",
            "  inflating: /content/drive/My Drive/Colab Notebooks/Data/Normal/IM-0290-0001.jpeg  \n",
            "  inflating: /content/drive/My Drive/Colab Notebooks/Data/Normal/IM-0291-0001.jpeg  \n",
            "  inflating: /content/drive/My Drive/Colab Notebooks/Data/Normal/IM-0292-0001.jpeg  \n",
            "  inflating: /content/drive/My Drive/Colab Notebooks/Data/Normal/IM-0293-0001.jpeg  \n",
            "  inflating: /content/drive/My Drive/Colab Notebooks/Data/Normal/IM-0294-0001.jpeg  \n",
            "  inflating: /content/drive/My Drive/Colab Notebooks/Data/Normal/IM-0295-0001.jpeg  \n",
            "  inflating: /content/drive/My Drive/Colab Notebooks/Data/Normal/IM-0318-0001.jpeg  \n"
          ],
          "name": "stdout"
        }
      ]
    },
    {
      "cell_type": "code",
      "metadata": {
        "id": "PZPekuQGugoj"
      },
      "source": [
        "dataset = r'/content/drive/My Drive/Colab Notebooks/Data'"
      ],
      "execution_count": null,
      "outputs": []
    },
    {
      "cell_type": "code",
      "metadata": {
        "id": "Ki7j7pzluuiY"
      },
      "source": [
        "INIT_LR = 1e-3\n",
        "EPOCHS=10\n",
        "BS=3"
      ],
      "execution_count": null,
      "outputs": []
    },
    {
      "cell_type": "code",
      "metadata": {
        "id": "twrLun8PxjGu"
      },
      "source": [
        "args={}\n",
        "args['dataset']=dataset"
      ],
      "execution_count": null,
      "outputs": []
    },
    {
      "cell_type": "code",
      "metadata": {
        "id": "f2jkCWLqxz_N",
        "outputId": "48bbe350-f688-4bcf-df2d-b964e1fef56f",
        "colab": {
          "base_uri": "https://localhost:8080/",
          "height": 35
        }
      },
      "source": [
        "dataset"
      ],
      "execution_count": null,
      "outputs": [
        {
          "output_type": "execute_result",
          "data": {
            "application/vnd.google.colaboratory.intrinsic+json": {
              "type": "string"
            },
            "text/plain": [
              "'/content/drive/My Drive/Colab Notebooks/Data'"
            ]
          },
          "metadata": {
            "tags": []
          },
          "execution_count": 61
        }
      ]
    },
    {
      "cell_type": "code",
      "metadata": {
        "id": "H-Oagq-uvUVn",
        "outputId": "05f8558e-49f0-4009-c002-8695eb20b7a9",
        "colab": {
          "base_uri": "https://localhost:8080/",
          "height": 54
        }
      },
      "source": [
        "import numpy as np\n",
        "from imutils import paths\n",
        "import cv2\n",
        "import os\n",
        "\n",
        "iPaths = list(paths.list_images(args[\"dataset\"]))\n",
        "data=[]\n",
        "labels=[]\n",
        "print(iPaths)\n",
        "\n",
        "for iPath in iPaths:\n",
        "    label = iPath.split(os.path.sep)[-2]   #split the image paths\n",
        "    image = cv2.imread(iPath)\n",
        "    image = cv2.cvtColor(image, cv2.COLOR_BGR2RGB) #Convert images into RGB Channel\n",
        "    image = cv2.resize(image, (224, 224))  #Resizing the images\n",
        "    data.append(image)\n",
        "    labels.append(label)\n",
        "  "
      ],
      "execution_count": null,
      "outputs": [
        {
          "output_type": "stream",
          "text": [
            "['/content/drive/My Drive/Colab Notebooks/Data/Covid/01E392EE-69F9-4E33-BFCE-E5C968654078.jpeg', '/content/drive/My Drive/Colab Notebooks/Data/Covid/03BF7561-A9BA-4C3C-B8A0-D3E585F73F3C.jpeg', '/content/drive/My Drive/Colab Notebooks/Data/Covid/1-s2.0-S0140673620303706-fx1_lrg.jpg', '/content/drive/My Drive/Colab Notebooks/Data/Covid/1-s2.0-S0929664620300449-gr2_lrg-a.jpg', '/content/drive/My Drive/Colab Notebooks/Data/Covid/1-s2.0-S0929664620300449-gr2_lrg-b.jpg', '/content/drive/My Drive/Colab Notebooks/Data/Covid/1-s2.0-S0929664620300449-gr2_lrg-c.jpg', '/content/drive/My Drive/Colab Notebooks/Data/Covid/1-s2.0-S0929664620300449-gr2_lrg-d.jpg', '/content/drive/My Drive/Colab Notebooks/Data/Covid/1-s2.0-S1684118220300608-main.pdf-001.jpg', '/content/drive/My Drive/Colab Notebooks/Data/Covid/1-s2.0-S1684118220300608-main.pdf-002.jpg', '/content/drive/My Drive/Colab Notebooks/Data/Covid/1-s2.0-S1684118220300682-main.pdf-002-a1.png', '/content/drive/My Drive/Colab Notebooks/Data/Covid/1-s2.0-S1684118220300682-main.pdf-002-a2.png', '/content/drive/My Drive/Colab Notebooks/Data/Covid/1-s2.0-S1684118220300682-main.pdf-003-b1.png', '/content/drive/My Drive/Colab Notebooks/Data/Covid/1-s2.0-S1684118220300682-main.pdf-003-b2.png', '/content/drive/My Drive/Colab Notebooks/Data/Covid/1.CXRCTThoraximagesofCOVID-19fromSingapore.pdf-000-fig1a.png', '/content/drive/My Drive/Colab Notebooks/Data/Covid/1.CXRCTThoraximagesofCOVID-19fromSingapore.pdf-000-fig1b.png', '/content/drive/My Drive/Colab Notebooks/Data/Covid/1.CXRCTThoraximagesofCOVID-19fromSingapore.pdf-001-fig2a.png', '/content/drive/My Drive/Colab Notebooks/Data/Covid/1.CXRCTThoraximagesofCOVID-19fromSingapore.pdf-001-fig2b.png', '/content/drive/My Drive/Colab Notebooks/Data/Covid/1.CXRCTThoraximagesofCOVID-19fromSingapore.pdf-002-fig3a.png', '/content/drive/My Drive/Colab Notebooks/Data/Covid/1.CXRCTThoraximagesofCOVID-19fromSingapore.pdf-002-fig3b.png', '/content/drive/My Drive/Colab Notebooks/Data/Covid/1.CXRCTThoraximagesofCOVID-19fromSingapore.pdf-003-fig4a.png', '/content/drive/My Drive/Colab Notebooks/Data/Covid/1.CXRCTThoraximagesofCOVID-19fromSingapore.pdf-003-fig4b.png', '/content/drive/My Drive/Colab Notebooks/Data/Covid/1312A392-67A3-4EBF-9319-810CF6DA5EF6.jpeg', '/content/drive/My Drive/Colab Notebooks/Data/Covid/16654_1_1.png', '/content/drive/My Drive/Colab Notebooks/Data/Covid/16654_2_1.jpg', '/content/drive/My Drive/Colab Notebooks/Data/Covid/16654_4_1.jpg', '/content/drive/My Drive/Colab Notebooks/Data/Covid/16660_1_1.jpg', '/content/drive/My Drive/Colab Notebooks/Data/Covid/16660_2_1.jpg', '/content/drive/My Drive/Colab Notebooks/Data/Covid/16660_3_1.jpg', '/content/drive/My Drive/Colab Notebooks/Data/Covid/16660_4_1.jpg', '/content/drive/My Drive/Colab Notebooks/Data/Covid/16663_1_1.jpg', '/content/drive/My Drive/Colab Notebooks/Data/Covid/16664_1_1.jpg', '/content/drive/My Drive/Colab Notebooks/Data/Covid/16669_1_1.jpeg', '/content/drive/My Drive/Colab Notebooks/Data/Covid/16669_3_1.jpeg', '/content/drive/My Drive/Colab Notebooks/Data/Covid/16672_1_1.jpg', '/content/drive/My Drive/Colab Notebooks/Data/Covid/1B734A89-A1BF-49A8-A1D3-66FAFA4FAC5D.jpeg', '/content/drive/My Drive/Colab Notebooks/Data/Covid/23E99E2E-447C-46E5-8EB2-D35D12473C39.png', '/content/drive/My Drive/Colab Notebooks/Data/Covid/2966893D-5DDF-4B68-9E2B-4979D5956C8E.jpeg', '/content/drive/My Drive/Colab Notebooks/Data/Covid/2C26F453-AF3B-4517-BB9E-802CF2179543.jpeg', '/content/drive/My Drive/Colab Notebooks/Data/Covid/31BA3780-2323-493F-8AED-62081B9C383B.jpeg', '/content/drive/My Drive/Colab Notebooks/Data/Covid/353889E0-A1E8-4F9E-A0B8-F24F36BCFBFB.jpeg', '/content/drive/My Drive/Colab Notebooks/Data/Covid/41591_2020_819_Fig1_HTML.webp-day10.png', '/content/drive/My Drive/Colab Notebooks/Data/Covid/41591_2020_819_Fig1_HTML.webp-day5.png', '/content/drive/My Drive/Colab Notebooks/Data/Covid/446B2CB6-B572-40AB-B01F-1910CA07086A.jpeg', '/content/drive/My Drive/Colab Notebooks/Data/Covid/4e43e48d52c9e2d4c6c1fb9bc1544f_jumbo.jpeg', '/content/drive/My Drive/Colab Notebooks/Data/Covid/53EC07C9-5CC6-4BE4-9B6F-D7B0D72AAA7E.jpeg', '/content/drive/My Drive/Colab Notebooks/Data/Covid/58cb9263f16e94305c730685358e4e_jumbo.jpeg', '/content/drive/My Drive/Colab Notebooks/Data/Covid/6b44464d-73a7-4cf3-bbb6-ffe7168300e3.annot.original.jpeg', '/content/drive/My Drive/Colab Notebooks/Data/Covid/6C94A287-C059-46A0-8600-AFB95F4727B7.jpeg', '/content/drive/My Drive/Colab Notebooks/Data/Covid/6CB4EFC6-68FA-4CD5-940C-BEFA8DAFE9A7.jpeg', '/content/drive/My Drive/Colab Notebooks/Data/Covid/7AF6C1AF-D249-4BD2-8C26-449304105D03.jpeg', '/content/drive/My Drive/Colab Notebooks/Data/Covid/7C69C012-7479-493F-8722-ABC29C60A2DD.jpeg', '/content/drive/My Drive/Colab Notebooks/Data/Covid/80446565-E090-4187-A031-9D3CEAA586C8.jpeg', '/content/drive/My Drive/Colab Notebooks/Data/Covid/85E52EB3-56E9-4D67-82DA-DEA247C82886.jpeg', '/content/drive/My Drive/Colab Notebooks/Data/Covid/8FDE8DBA-CFBD-4B4C-B1A4-6F36A93B7E87.jpeg', '/content/drive/My Drive/Colab Notebooks/Data/Covid/93FE0BB1-022D-4F24-9727-987A07975FFB.jpeg', '/content/drive/My Drive/Colab Notebooks/Data/Covid/9C34AF49-E589-44D5-92D3-168B3B04E4A6.jpeg', '/content/drive/My Drive/Colab Notebooks/Data/Covid/9fdd3c3032296fd04d2cad5d9070d4_jumbo.jpeg', '/content/drive/My Drive/Colab Notebooks/Data/Covid/all14238-fig-0001-m-b.jpg', '/content/drive/My Drive/Colab Notebooks/Data/Covid/all14238-fig-0001-m-c.jpg', '/content/drive/My Drive/Colab Notebooks/Data/Covid/auntminnie-a-2020_01_28_23_51_6665_2020_01_28_Vietnam_coronavirus.jpeg', '/content/drive/My Drive/Colab Notebooks/Data/Covid/auntminnie-b-2020_01_28_23_51_6665_2020_01_28_Vietnam_coronavirus.jpeg', '/content/drive/My Drive/Colab Notebooks/Data/Covid/auntminnie-c-2020_01_28_23_51_6665_2020_01_28_Vietnam_coronavirus.jpeg', '/content/drive/My Drive/Colab Notebooks/Data/Covid/auntminnie-d-2020_01_28_23_51_6665_2020_01_28_Vietnam_coronavirus.jpeg', '/content/drive/My Drive/Colab Notebooks/Data/Covid/B2D20576-00B7-4519-A415-72DE29C90C34.jpeg', '/content/drive/My Drive/Colab Notebooks/Data/Covid/CD50BA96-6982-4C80-AE7B-5F67ACDBFA56.jpeg', '/content/drive/My Drive/Colab Notebooks/Data/Covid/ciaa199.pdf-001-a.png', '/content/drive/My Drive/Colab Notebooks/Data/Covid/ciaa199.pdf-001-b.png', '/content/drive/My Drive/Colab Notebooks/Data/Covid/ciaa199.pdf-001-c.png', '/content/drive/My Drive/Colab Notebooks/Data/Covid/covid-19-caso-70-1-PA.jpg', '/content/drive/My Drive/Colab Notebooks/Data/Covid/covid-19-infection-exclusive-gastrointestinal-symptoms-l.png', '/content/drive/My Drive/Colab Notebooks/Data/Covid/covid-19-infection-exclusive-gastrointestinal-symptoms-pa.png', '/content/drive/My Drive/Colab Notebooks/Data/Covid/covid-19-pneumonia-12.jpg', '/content/drive/My Drive/Colab Notebooks/Data/Covid/covid-19-pneumonia-14-PA.png', '/content/drive/My Drive/Colab Notebooks/Data/Covid/covid-19-pneumonia-15-PA.jpg', '/content/drive/My Drive/Colab Notebooks/Data/Covid/covid-19-pneumonia-19.jpg', '/content/drive/My Drive/Colab Notebooks/Data/Covid/covid-19-pneumonia-2.jpg', '/content/drive/My Drive/Colab Notebooks/Data/Covid/covid-19-pneumonia-20-pa-on-admission.jpg', '/content/drive/My Drive/Colab Notebooks/Data/Covid/covid-19-pneumonia-20.jpg', '/content/drive/My Drive/Colab Notebooks/Data/Covid/covid-19-pneumonia-22-day1-pa.png', '/content/drive/My Drive/Colab Notebooks/Data/Covid/covid-19-pneumonia-22-day2-pa.png', '/content/drive/My Drive/Colab Notebooks/Data/Covid/covid-19-pneumonia-28.png', '/content/drive/My Drive/Colab Notebooks/Data/Covid/covid-19-pneumonia-30-PA.jpg', '/content/drive/My Drive/Colab Notebooks/Data/Covid/covid-19-pneumonia-34.png', '/content/drive/My Drive/Colab Notebooks/Data/Covid/covid-19-pneumonia-35-1.jpg', '/content/drive/My Drive/Colab Notebooks/Data/Covid/covid-19-pneumonia-35-2.jpg', '/content/drive/My Drive/Colab Notebooks/Data/Covid/covid-19-pneumonia-38-pa.jpg', '/content/drive/My Drive/Colab Notebooks/Data/Covid/covid-19-pneumonia-44-day-0.jpeg', '/content/drive/My Drive/Colab Notebooks/Data/Covid/covid-19-pneumonia-53.jpg', '/content/drive/My Drive/Colab Notebooks/Data/Covid/covid-19-pneumonia-58-day-10.jpg', '/content/drive/My Drive/Colab Notebooks/Data/Covid/covid-19-pneumonia-58-day-3.jpg', '/content/drive/My Drive/Colab Notebooks/Data/Covid/covid-19-pneumonia-58-day-7.jpg', '/content/drive/My Drive/Colab Notebooks/Data/Covid/covid-19-pneumonia-58-day-9.jpg', '/content/drive/My Drive/Colab Notebooks/Data/Covid/covid-19-pneumonia-67.jpeg', '/content/drive/My Drive/Colab Notebooks/Data/Covid/covid-19-pneumonia-7-PA.jpg', '/content/drive/My Drive/Colab Notebooks/Data/Covid/covid-19-pneumonia-8.jpg', '/content/drive/My Drive/Colab Notebooks/Data/Covid/covid-19-pneumonia-bilateral.jpg', '/content/drive/My Drive/Colab Notebooks/Data/Covid/covid-19-pneumonia-evolution-over-a-week-1-day0-PA.jpg', '/content/drive/My Drive/Colab Notebooks/Data/Covid/covid-19-pneumonia-mild.JPG', '/content/drive/My Drive/Colab Notebooks/Data/Covid/F2DE909F-E19C-4900-92F5-8F435B031AC6.jpeg', '/content/drive/My Drive/Colab Notebooks/Data/Covid/F63AB6CE-1968-4154-A70F-913AF154F53D.jpeg', '/content/drive/My Drive/Colab Notebooks/Data/Normal/IM-0135-0001.jpeg', '/content/drive/My Drive/Colab Notebooks/Data/Normal/IM-0137-0001.jpeg', '/content/drive/My Drive/Colab Notebooks/Data/Normal/IM-0158-0001.jpeg', '/content/drive/My Drive/Colab Notebooks/Data/Normal/IM-0160-0001.jpeg', '/content/drive/My Drive/Colab Notebooks/Data/Normal/IM-0162-0001.jpeg', '/content/drive/My Drive/Colab Notebooks/Data/Normal/IM-0164-0001.jpeg', '/content/drive/My Drive/Colab Notebooks/Data/Normal/IM-0166-0001.jpeg', '/content/drive/My Drive/Colab Notebooks/Data/Normal/IM-0168-0001.jpeg', '/content/drive/My Drive/Colab Notebooks/Data/Normal/IM-0170-0001.jpeg', '/content/drive/My Drive/Colab Notebooks/Data/Normal/IM-0172-0001.jpeg', '/content/drive/My Drive/Colab Notebooks/Data/Normal/IM-0176-0001.jpeg', '/content/drive/My Drive/Colab Notebooks/Data/Normal/IM-0177-0001.jpeg', '/content/drive/My Drive/Colab Notebooks/Data/Normal/IM-0178-0001.jpeg', '/content/drive/My Drive/Colab Notebooks/Data/Normal/IM-0180-0001.jpeg', '/content/drive/My Drive/Colab Notebooks/Data/Normal/IM-0182-0001.jpeg', '/content/drive/My Drive/Colab Notebooks/Data/Normal/IM-0183-0001.jpeg', '/content/drive/My Drive/Colab Notebooks/Data/Normal/IM-0185-0001.jpeg', '/content/drive/My Drive/Colab Notebooks/Data/Normal/IM-0187-0001.jpeg', '/content/drive/My Drive/Colab Notebooks/Data/Normal/IM-0189-0001.jpeg', '/content/drive/My Drive/Colab Notebooks/Data/Normal/IM-0191-0001.jpeg', '/content/drive/My Drive/Colab Notebooks/Data/Normal/IM-0193-0001.jpeg', '/content/drive/My Drive/Colab Notebooks/Data/Normal/IM-0195-0001.jpeg', '/content/drive/My Drive/Colab Notebooks/Data/Normal/IM-0199-0001.jpeg', '/content/drive/My Drive/Colab Notebooks/Data/Normal/IM-0201-0001.jpeg', '/content/drive/My Drive/Colab Notebooks/Data/Normal/IM-0203-0001.jpeg', '/content/drive/My Drive/Colab Notebooks/Data/Normal/IM-0205-0001.jpeg', '/content/drive/My Drive/Colab Notebooks/Data/Normal/IM-0206-0001.jpeg', '/content/drive/My Drive/Colab Notebooks/Data/Normal/IM-0207-0001.jpeg', '/content/drive/My Drive/Colab Notebooks/Data/Normal/IM-0209-0001.jpeg', '/content/drive/My Drive/Colab Notebooks/Data/Normal/IM-0210-0001.jpeg', '/content/drive/My Drive/Colab Notebooks/Data/Normal/IM-0211-0001.jpeg', '/content/drive/My Drive/Colab Notebooks/Data/Normal/IM-0213-0001.jpeg', '/content/drive/My Drive/Colab Notebooks/Data/Normal/IM-0214-0001.jpeg', '/content/drive/My Drive/Colab Notebooks/Data/Normal/IM-0215-0001.jpeg', '/content/drive/My Drive/Colab Notebooks/Data/Normal/IM-0216-0001.jpeg', '/content/drive/My Drive/Colab Notebooks/Data/Normal/IM-0217-0001.jpeg', '/content/drive/My Drive/Colab Notebooks/Data/Normal/IM-0218-0001.jpeg', '/content/drive/My Drive/Colab Notebooks/Data/Normal/IM-0219-0001.jpeg', '/content/drive/My Drive/Colab Notebooks/Data/Normal/IM-0220-0001.jpeg', '/content/drive/My Drive/Colab Notebooks/Data/Normal/IM-0221-0001.jpeg', '/content/drive/My Drive/Colab Notebooks/Data/Normal/IM-0222-0001.jpeg', '/content/drive/My Drive/Colab Notebooks/Data/Normal/IM-0223-0001.jpeg', '/content/drive/My Drive/Colab Notebooks/Data/Normal/IM-0224-0001.jpeg', '/content/drive/My Drive/Colab Notebooks/Data/Normal/IM-0225-0001.jpeg', '/content/drive/My Drive/Colab Notebooks/Data/Normal/IM-0226-0001.jpeg', '/content/drive/My Drive/Colab Notebooks/Data/Normal/IM-0227-0001.jpeg', '/content/drive/My Drive/Colab Notebooks/Data/Normal/IM-0228-0001.jpeg', '/content/drive/My Drive/Colab Notebooks/Data/Normal/IM-0229-0001.jpeg', '/content/drive/My Drive/Colab Notebooks/Data/Normal/IM-0230-0001.jpeg', '/content/drive/My Drive/Colab Notebooks/Data/Normal/IM-0231-0001.jpeg', '/content/drive/My Drive/Colab Notebooks/Data/Normal/IM-0234-0001.jpeg', '/content/drive/My Drive/Colab Notebooks/Data/Normal/IM-0235-0001.jpeg', '/content/drive/My Drive/Colab Notebooks/Data/Normal/IM-0236-0001.jpeg', '/content/drive/My Drive/Colab Notebooks/Data/Normal/IM-0237-0001.jpeg', '/content/drive/My Drive/Colab Notebooks/Data/Normal/IM-0238-0001.jpeg', '/content/drive/My Drive/Colab Notebooks/Data/Normal/IM-0239-0001.jpeg', '/content/drive/My Drive/Colab Notebooks/Data/Normal/IM-0240-0001.jpeg', '/content/drive/My Drive/Colab Notebooks/Data/Normal/IM-0241-0001.jpeg', '/content/drive/My Drive/Colab Notebooks/Data/Normal/IM-0242-0001.jpeg', '/content/drive/My Drive/Colab Notebooks/Data/Normal/IM-0243-0001.jpeg', '/content/drive/My Drive/Colab Notebooks/Data/Normal/IM-0244-0001.jpeg', '/content/drive/My Drive/Colab Notebooks/Data/Normal/IM-0245-0001.jpeg', '/content/drive/My Drive/Colab Notebooks/Data/Normal/IM-0248-0001.jpeg', '/content/drive/My Drive/Colab Notebooks/Data/Normal/IM-0249-0001.jpeg', '/content/drive/My Drive/Colab Notebooks/Data/Normal/IM-0250-0001.jpeg', '/content/drive/My Drive/Colab Notebooks/Data/Normal/IM-0251-0001.jpeg', '/content/drive/My Drive/Colab Notebooks/Data/Normal/IM-0253-0001.jpeg', '/content/drive/My Drive/Colab Notebooks/Data/Normal/IM-0255-0001.jpeg', '/content/drive/My Drive/Colab Notebooks/Data/Normal/IM-0256-0001.jpeg', '/content/drive/My Drive/Colab Notebooks/Data/Normal/IM-0257-0001.jpeg', '/content/drive/My Drive/Colab Notebooks/Data/Normal/IM-0261-0001.jpeg', '/content/drive/My Drive/Colab Notebooks/Data/Normal/IM-0262-0001.jpeg', '/content/drive/My Drive/Colab Notebooks/Data/Normal/IM-0264-0001.jpeg', '/content/drive/My Drive/Colab Notebooks/Data/Normal/IM-0265-0001.jpeg', '/content/drive/My Drive/Colab Notebooks/Data/Normal/IM-0266-0001.jpeg', '/content/drive/My Drive/Colab Notebooks/Data/Normal/IM-0268-0001.jpeg', '/content/drive/My Drive/Colab Notebooks/Data/Normal/IM-0269-0001.jpeg', '/content/drive/My Drive/Colab Notebooks/Data/Normal/IM-0270-0001.jpeg', '/content/drive/My Drive/Colab Notebooks/Data/Normal/IM-0272-0001.jpeg', '/content/drive/My Drive/Colab Notebooks/Data/Normal/IM-0273-0001.jpeg', '/content/drive/My Drive/Colab Notebooks/Data/Normal/IM-0274-0001.jpeg', '/content/drive/My Drive/Colab Notebooks/Data/Normal/IM-0275-0001.jpeg', '/content/drive/My Drive/Colab Notebooks/Data/Normal/IM-0276-0001.jpeg', '/content/drive/My Drive/Colab Notebooks/Data/Normal/IM-0277-0001.jpeg', '/content/drive/My Drive/Colab Notebooks/Data/Normal/IM-0278-0001.jpeg', '/content/drive/My Drive/Colab Notebooks/Data/Normal/IM-0279-0001.jpeg', '/content/drive/My Drive/Colab Notebooks/Data/Normal/IM-0280-0001.jpeg', '/content/drive/My Drive/Colab Notebooks/Data/Normal/IM-0282-0001.jpeg', '/content/drive/My Drive/Colab Notebooks/Data/Normal/IM-0283-0001.jpeg', '/content/drive/My Drive/Colab Notebooks/Data/Normal/IM-0285-0001.jpeg', '/content/drive/My Drive/Colab Notebooks/Data/Normal/IM-0286-0001.jpeg', '/content/drive/My Drive/Colab Notebooks/Data/Normal/IM-0288-0001.jpeg', '/content/drive/My Drive/Colab Notebooks/Data/Normal/IM-0289-0001.jpeg', '/content/drive/My Drive/Colab Notebooks/Data/Normal/IM-0290-0001.jpeg', '/content/drive/My Drive/Colab Notebooks/Data/Normal/IM-0291-0001.jpeg', '/content/drive/My Drive/Colab Notebooks/Data/Normal/IM-0292-0001.jpeg', '/content/drive/My Drive/Colab Notebooks/Data/Normal/IM-0293-0001.jpeg', '/content/drive/My Drive/Colab Notebooks/Data/Normal/IM-0294-0001.jpeg', '/content/drive/My Drive/Colab Notebooks/Data/Normal/IM-0295-0001.jpeg', '/content/drive/My Drive/Colab Notebooks/Data/Normal/IM-0318-0001.jpeg']\n"
          ],
          "name": "stdout"
        }
      ]
    },
    {
      "cell_type": "code",
      "metadata": {
        "id": "QBBytm1L3HaT"
      },
      "source": [
        "\n"
      ],
      "execution_count": null,
      "outputs": []
    },
    {
      "cell_type": "code",
      "metadata": {
        "id": "i_VeuIO4CfVT"
      },
      "source": [
        ""
      ],
      "execution_count": null,
      "outputs": []
    }
  ]
}