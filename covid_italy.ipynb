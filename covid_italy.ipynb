{
  "nbformat": 4,
  "nbformat_minor": 0,
  "metadata": {
    "colab": {
      "name": "covid_italy",
      "provenance": [],
      "authorship_tag": "ABX9TyO6nzW5DKKM3PM9dcJ4KBY5",
      "include_colab_link": true
    },
    "kernelspec": {
      "name": "python3",
      "display_name": "Python 3"
    }
  },
  "cells": [
    {
      "cell_type": "markdown",
      "metadata": {
        "id": "view-in-github",
        "colab_type": "text"
      },
      "source": [
        "<a href=\"https://colab.research.google.com/github/Chicken2322/Covid_Italy/blob/master/covid_italy.ipynb\" target=\"_parent\"><img src=\"https://colab.research.google.com/assets/colab-badge.svg\" alt=\"Open In Colab\"/></a>"
      ]
    },
    {
      "cell_type": "code",
      "metadata": {
        "id": "OeKbeShpQGz3",
        "colab_type": "code",
        "colab": {}
      },
      "source": [
        "import matplotlib.pyplot as plt\n",
        "from tensorflow.keras.applications import  VGG16\n",
        "from tensorflow.keras.preprocessing.image import ImageDataGenerator\n",
        "from tensorflow.keras.layers import AveragePooling2D\n",
        "from tensorflow.keras.layers import Dropout\n",
        "from tensorflow.keras.layers import Flatten\n",
        "from tensorflow.keras.layers import Input\n",
        "from tensorflow.keras.layers import Dense\n",
        "from tensorflow.keras.models import Model\n",
        "from tensorflow.keras.optimizers import Adam\n",
        "from tensorflow.keras.utils import to_categorical\n",
        "from sklearn.model_selection import train_test_split\n",
        "from sklearn.preprocessing import label_binarize\n"
      ],
      "execution_count": 7,
      "outputs": []
    },
    {
      "cell_type": "code",
      "metadata": {
        "id": "PZPekuQGugoj",
        "colab_type": "code",
        "colab": {}
      },
      "source": [
        "dataset=r'C:\\Users\\hp\\Desktop\\Data.zip'"
      ],
      "execution_count": 8,
      "outputs": []
    },
    {
      "cell_type": "code",
      "metadata": {
        "id": "Ki7j7pzluuiY",
        "colab_type": "code",
        "colab": {}
      },
      "source": [
        "INIT_LR = 1e-3\n",
        "EPOCHS=10\n",
        "BS=3"
      ],
      "execution_count": 9,
      "outputs": []
    },
    {
      "cell_type": "code",
      "metadata": {
        "id": "twrLun8PxjGu",
        "colab_type": "code",
        "colab": {}
      },
      "source": [
        "args={}\n",
        "args['dataset']=dataset"
      ],
      "execution_count": 12,
      "outputs": []
    },
    {
      "cell_type": "code",
      "metadata": {
        "id": "f2jkCWLqxz_N",
        "colab_type": "code",
        "colab": {
          "base_uri": "https://localhost:8080/",
          "height": 34
        },
        "outputId": "04ceceb7-c3a4-4cb2-9bf1-fa71a7aca194"
      },
      "source": [
        "args"
      ],
      "execution_count": 14,
      "outputs": [
        {
          "output_type": "execute_result",
          "data": {
            "text/plain": [
              "{'dataset': 'C:\\\\Users\\\\hp\\\\Desktop\\\\Data.zip'}"
            ]
          },
          "metadata": {
            "tags": []
          },
          "execution_count": 14
        }
      ]
    },
    {
      "cell_type": "code",
      "metadata": {
        "id": "H-Oagq-uvUVn",
        "colab_type": "code",
        "colab": {}
      },
      "source": [
        "import numpy as np\n",
        "from imutils import paths\n",
        "import cv2\n",
        "import os\n",
        "\n",
        "iPaths = list(paths.list_images(args[\"dataset\"]))\n",
        "data=[]\n",
        "labels=[]\n",
        "\n",
        "for iPath in iPaths:\n",
        "  label=iPath.split(os.paths.sep)\n",
        "  image=cv2.imread(iPath)\n",
        "  image=cv2.cvtColor(image,cv2.COLOR_BGR2RGB)"
      ],
      "execution_count": 17,
      "outputs": []
    }
  ]
}